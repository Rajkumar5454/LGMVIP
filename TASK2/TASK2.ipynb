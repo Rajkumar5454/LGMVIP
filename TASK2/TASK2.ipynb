{
 "cells": [
  {
   "cell_type": "code",
   "execution_count": null,
   "metadata": {
    "id": "wRykBk-S8rEU"
   },
   "outputs": [],
   "source": [
    "import pandas as pd"
   ]
  },
  {
   "cell_type": "code",
   "execution_count": null,
   "metadata": {
    "colab": {
     "base_uri": "https://localhost:8080/"
    },
    "id": "I6yvN_P-BOEs",
    "outputId": "923f4d38-cf27-4d53-9073-1d92dcc3b98d"
   },
   "outputs": [
    {
     "name": "stdout",
     "output_type": "stream",
     "text": [
      "2.12.0\n"
     ]
    }
   ],
   "source": [
    "import tensorflow as tf\n",
    "print(tf.__version__)"
   ]
  },
  {
   "cell_type": "code",
   "execution_count": null,
   "metadata": {
    "id": "zzSMKynF9HtA"
   },
   "outputs": [],
   "source": [
    "import numpy as np"
   ]
  },
  {
   "cell_type": "code",
   "execution_count": null,
   "metadata": {
    "id": "gIa_F7Ux9qBr"
   },
   "outputs": [],
   "source": [
    "from sklearn.preprocessing import MinMaxScaler"
   ]
  },
  {
   "cell_type": "code",
   "execution_count": null,
   "metadata": {
    "id": "E14pBvfd-UBB"
   },
   "outputs": [],
   "source": [
    "from keras.models import Sequential\n",
    "from keras.layers import Dense, LSTM, Dropout\n"
   ]
  },
  {
   "cell_type": "code",
   "execution_count": null,
   "metadata": {
    "id": "T0VZlq_g-Vfx"
   },
   "outputs": [],
   "source": [
    "df = pd.read_csv('/content/stock dataset.csv')"
   ]
  },
  {
   "cell_type": "code",
   "execution_count": null,
   "metadata": {
    "id": "oXghEWf9-itt"
   },
   "outputs": [],
   "source": [
    "dataset = df.values\n"
   ]
  },
  {
   "cell_type": "code",
   "execution_count": null,
   "metadata": {
    "id": "7QGcQJnc-mhf"
   },
   "outputs": [],
   "source": [
    "training_data = dataset[:500, 1:2]"
   ]
  },
  {
   "cell_type": "code",
   "execution_count": null,
   "metadata": {
    "colab": {
     "base_uri": "https://localhost:8080/"
    },
    "id": "BAaYL8b3-o6Q",
    "outputId": "b23bccf2-220a-4168-d21d-4c38255a3f22"
   },
   "outputs": [
    {
     "data": {
      "text/plain": [
       "array([[234.05],\n",
       "       [234.55],\n",
       "       [240.0],\n",
       "       [233.3],\n",
       "       [233.55],\n",
       "       [235.0],\n",
       "       [235.95],\n",
       "       [237.9],\n",
       "       [233.15],\n",
       "       [223.45],\n",
       "       [216.35],\n",
       "       [222.5],\n",
       "       [222.5],\n",
       "       [221.0],\n",
       "       [224.0],\n",
       "       [222.0],\n",
       "       [238.2],\n",
       "       [236.0],\n",
       "       [237.0],\n",
       "       [235.35],\n",
       "       [233.85],\n",
       "       [237.0],\n",
       "       [231.8],\n",
       "       [234.5],\n",
       "       [240.3],\n",
       "       [246.9],\n",
       "       [244.0],\n",
       "       [240.8],\n",
       "       [236.05],\n",
       "       [235.0],\n",
       "       [233.0],\n",
       "       [237.3],\n",
       "       [236.65],\n",
       "       [237.25],\n",
       "       [241.0],\n",
       "       [235.15],\n",
       "       [236.0],\n",
       "       [232.5],\n",
       "       [248.7],\n",
       "       [243.4],\n",
       "       [243.7],\n",
       "       [241.0],\n",
       "       [235.9],\n",
       "       [248.5],\n",
       "       [244.0],\n",
       "       [238.9],\n",
       "       [231.25],\n",
       "       [239.7],\n",
       "       [248.4],\n",
       "       [241.55],\n",
       "       [257.9],\n",
       "       [265.0],\n",
       "       [270.4],\n",
       "       [274.8],\n",
       "       [275.9],\n",
       "       [268.25],\n",
       "       [269.8],\n",
       "       [277.45],\n",
       "       [281.0],\n",
       "       [264.5],\n",
       "       [271.0],\n",
       "       [262.7],\n",
       "       [263.0],\n",
       "       [265.1],\n",
       "       [264.8],\n",
       "       [260.1],\n",
       "       [257.9],\n",
       "       [258.05],\n",
       "       [263.7],\n",
       "       [274.65],\n",
       "       [271.55],\n",
       "       [279.15],\n",
       "       [269.8],\n",
       "       [267.0],\n",
       "       [262.75],\n",
       "       [265.6],\n",
       "       [263.7],\n",
       "       [266.9],\n",
       "       [262.75],\n",
       "       [255.5],\n",
       "       [265.0],\n",
       "       [269.7],\n",
       "       [267.0],\n",
       "       [254.0],\n",
       "       [257.4],\n",
       "       [254.7],\n",
       "       [252.2],\n",
       "       [251.0],\n",
       "       [246.5],\n",
       "       [244.0],\n",
       "       [244.1],\n",
       "       [248.3],\n",
       "       [243.5],\n",
       "       [240.0],\n",
       "       [256.45],\n",
       "       [280.0],\n",
       "       [284.4],\n",
       "       [292.95],\n",
       "       [289.6],\n",
       "       [296.0],\n",
       "       [288.8],\n",
       "       [287.05],\n",
       "       [292.75],\n",
       "       [297.4],\n",
       "       [293.9],\n",
       "       [293.45],\n",
       "       [292.5],\n",
       "       [283.05],\n",
       "       [283.0],\n",
       "       [287.7],\n",
       "       [285.95],\n",
       "       [286.0],\n",
       "       [282.3],\n",
       "       [282.0],\n",
       "       [274.0],\n",
       "       [274.0],\n",
       "       [273.9],\n",
       "       [276.1],\n",
       "       [280.2],\n",
       "       [275.0],\n",
       "       [274.8],\n",
       "       [274.55],\n",
       "       [276.7],\n",
       "       [276.0],\n",
       "       [259.35],\n",
       "       [261.25],\n",
       "       [264.0],\n",
       "       [258.05],\n",
       "       [251.05],\n",
       "       [264.65],\n",
       "       [265.3],\n",
       "       [259.7],\n",
       "       [272.6],\n",
       "       [280.8],\n",
       "       [278.0],\n",
       "       [275.25],\n",
       "       [278.05],\n",
       "       [270.0],\n",
       "       [275.9],\n",
       "       [270.5],\n",
       "       [272.0],\n",
       "       [276.7],\n",
       "       [274.8],\n",
       "       [275.0],\n",
       "       [273.0],\n",
       "       [275.0],\n",
       "       [273.55],\n",
       "       [264.2],\n",
       "       [265.95],\n",
       "       [265.0],\n",
       "       [268.7],\n",
       "       [277.0],\n",
       "       [280.25],\n",
       "       [284.35],\n",
       "       [287.95],\n",
       "       [282.4],\n",
       "       [271.1],\n",
       "       [282.0],\n",
       "       [270.0],\n",
       "       [259.0],\n",
       "       [265.1],\n",
       "       [284.0],\n",
       "       [290.25],\n",
       "       [302.9],\n",
       "       [300.95],\n",
       "       [305.25],\n",
       "       [304.0],\n",
       "       [306.0],\n",
       "       [310.7],\n",
       "       [307.05],\n",
       "       [306.0],\n",
       "       [315.05],\n",
       "       [313.85],\n",
       "       [323.0],\n",
       "       [327.7],\n",
       "       [315.05],\n",
       "       [314.0],\n",
       "       [315.0],\n",
       "       [317.6],\n",
       "       [314.65],\n",
       "       [312.3],\n",
       "       [312.0],\n",
       "       [311.9],\n",
       "       [314.3],\n",
       "       [317.75],\n",
       "       [308.05],\n",
       "       [306.5],\n",
       "       [305.5],\n",
       "       [303.7],\n",
       "       [301.0],\n",
       "       [302.25],\n",
       "       [301.0],\n",
       "       [292.0],\n",
       "       [280.0],\n",
       "       [289.0],\n",
       "       [288.0],\n",
       "       [290.0],\n",
       "       [298.6],\n",
       "       [290.0],\n",
       "       [287.55],\n",
       "       [276.0],\n",
       "       [278.9],\n",
       "       [279.4],\n",
       "       [285.0],\n",
       "       [288.45],\n",
       "       [278.9],\n",
       "       [287.3],\n",
       "       [277.0],\n",
       "       [277.5],\n",
       "       [275.05],\n",
       "       [273.15],\n",
       "       [273.5],\n",
       "       [275.9],\n",
       "       [261.15],\n",
       "       [252.25],\n",
       "       [254.0],\n",
       "       [237.9],\n",
       "       [234.7],\n",
       "       [236.3],\n",
       "       [240.7],\n",
       "       [225.8],\n",
       "       [226.0],\n",
       "       [235.0],\n",
       "       [224.9],\n",
       "       [227.0],\n",
       "       [227.9],\n",
       "       [226.95],\n",
       "       [226.95],\n",
       "       [225.0],\n",
       "       [211.3],\n",
       "       [204.95],\n",
       "       [211.0],\n",
       "       [204.0],\n",
       "       [205.5],\n",
       "       [207.9],\n",
       "       [211.45],\n",
       "       [210.4],\n",
       "       [210.3],\n",
       "       [211.0],\n",
       "       [211.0],\n",
       "       [209.45],\n",
       "       [209.5],\n",
       "       [209.65],\n",
       "       [210.0],\n",
       "       [204.95],\n",
       "       [207.3],\n",
       "       [207.25],\n",
       "       [204.5],\n",
       "       [199.05],\n",
       "       [206.5],\n",
       "       [196.0],\n",
       "       [201.45],\n",
       "       [211.0],\n",
       "       [214.0],\n",
       "       [216.4],\n",
       "       [213.0],\n",
       "       [212.65],\n",
       "       [211.0],\n",
       "       [208.5],\n",
       "       [214.65],\n",
       "       [212.0],\n",
       "       [209.2],\n",
       "       [206.1],\n",
       "       [207.95],\n",
       "       [195.1],\n",
       "       [194.3],\n",
       "       [198.0],\n",
       "       [198.25],\n",
       "       [198.5],\n",
       "       [193.0],\n",
       "       [192.95],\n",
       "       [195.0],\n",
       "       [197.3],\n",
       "       [191.5],\n",
       "       [197.15],\n",
       "       [196.65],\n",
       "       [189.8],\n",
       "       [194.0],\n",
       "       [182.5],\n",
       "       [166.0],\n",
       "       [155.1],\n",
       "       [161.85],\n",
       "       [165.5],\n",
       "       [171.8],\n",
       "       [167.0],\n",
       "       [164.7],\n",
       "       [165.95],\n",
       "       [168.0],\n",
       "       [171.0],\n",
       "       [169.5],\n",
       "       [167.9],\n",
       "       [173.85],\n",
       "       [172.0],\n",
       "       [170.5],\n",
       "       [172.2],\n",
       "       [171.9],\n",
       "       [175.4],\n",
       "       [173.8],\n",
       "       [176.1],\n",
       "       [174.25],\n",
       "       [175.9],\n",
       "       [175.35],\n",
       "       [171.05],\n",
       "       [167.05],\n",
       "       [159.0],\n",
       "       [153.15],\n",
       "       [156.5],\n",
       "       [151.5],\n",
       "       [153.7],\n",
       "       [152.5],\n",
       "       [148.0],\n",
       "       [149.95],\n",
       "       [147.25],\n",
       "       [151.15],\n",
       "       [154.6],\n",
       "       [157.0],\n",
       "       [156.8],\n",
       "       [156.75],\n",
       "       [159.0],\n",
       "       [159.95],\n",
       "       [158.45],\n",
       "       [156.95],\n",
       "       [152.45],\n",
       "       [153.5],\n",
       "       [154.9],\n",
       "       [155.1],\n",
       "       [152.65],\n",
       "       [155.0],\n",
       "       [155.05],\n",
       "       [153.1],\n",
       "       [148.35],\n",
       "       [148.55],\n",
       "       [145.0],\n",
       "       [147.2],\n",
       "       [144.0],\n",
       "       [143.45],\n",
       "       [145.2],\n",
       "       [148.05],\n",
       "       [149.8],\n",
       "       [149.5],\n",
       "       [152.0],\n",
       "       [154.0],\n",
       "       [154.6],\n",
       "       [152.65],\n",
       "       [154.0],\n",
       "       [155.0],\n",
       "       [154.9],\n",
       "       [153.2],\n",
       "       [152.8],\n",
       "       [156.5],\n",
       "       [156.3],\n",
       "       [158.85],\n",
       "       [154.3],\n",
       "       [153.4],\n",
       "       [155.0],\n",
       "       [152.45],\n",
       "       [152.4],\n",
       "       [151.0],\n",
       "       [153.5],\n",
       "       [150.25],\n",
       "       [147.9],\n",
       "       [149.1],\n",
       "       [151.0],\n",
       "       [152.0],\n",
       "       [153.95],\n",
       "       [151.5],\n",
       "       [151.5],\n",
       "       [152.8],\n",
       "       [152.9],\n",
       "       [152.8],\n",
       "       [150.65],\n",
       "       [151.45],\n",
       "       [151.45],\n",
       "       [151.7],\n",
       "       [149.9],\n",
       "       [151.0],\n",
       "       [152.9],\n",
       "       [143.9],\n",
       "       [145.55],\n",
       "       [147.0],\n",
       "       [144.8],\n",
       "       [145.7],\n",
       "       [141.6],\n",
       "       [139.6],\n",
       "       [140.2],\n",
       "       [140.85],\n",
       "       [140.6],\n",
       "       [142.4],\n",
       "       [143.0],\n",
       "       [143.95],\n",
       "       [141.1],\n",
       "       [145.45],\n",
       "       [138.5],\n",
       "       [139.15],\n",
       "       [139.0],\n",
       "       [140.05],\n",
       "       [142.55],\n",
       "       [142.15],\n",
       "       [141.0],\n",
       "       [140.9],\n",
       "       [139.2],\n",
       "       [140.9],\n",
       "       [142.4],\n",
       "       [144.9],\n",
       "       [143.95],\n",
       "       [146.0],\n",
       "       [141.95],\n",
       "       [142.1],\n",
       "       [141.9],\n",
       "       [138.2],\n",
       "       [132.45],\n",
       "       [129.05],\n",
       "       [130.5],\n",
       "       [129.1],\n",
       "       [128.35],\n",
       "       [129.25],\n",
       "       [128.8],\n",
       "       [127.6],\n",
       "       [130.25],\n",
       "       [129.8],\n",
       "       [128.0],\n",
       "       [128.6],\n",
       "       [128.2],\n",
       "       [126.9],\n",
       "       [128.3],\n",
       "       [125.0],\n",
       "       [125.5],\n",
       "       [124.75],\n",
       "       [125.4],\n",
       "       [124.75],\n",
       "       [125.0],\n",
       "       [122.8],\n",
       "       [122.8],\n",
       "       [121.1],\n",
       "       [119.6],\n",
       "       [119.2],\n",
       "       [117.0],\n",
       "       [118.8],\n",
       "       [119.5],\n",
       "       [122.4],\n",
       "       [120.75],\n",
       "       [124.8],\n",
       "       [124.8],\n",
       "       [125.0],\n",
       "       [122.5],\n",
       "       [123.85],\n",
       "       [124.05],\n",
       "       [123.9],\n",
       "       [124.35],\n",
       "       [123.0],\n",
       "       [124.35],\n",
       "       [123.8],\n",
       "       [121.45],\n",
       "       [121.5],\n",
       "       [124.65],\n",
       "       [122.95],\n",
       "       [122.8],\n",
       "       [118.55],\n",
       "       [116.0],\n",
       "       [117.65],\n",
       "       [118.8],\n",
       "       [117.8],\n",
       "       [120.1],\n",
       "       [118.9],\n",
       "       [121.7],\n",
       "       [123.1],\n",
       "       [119.8],\n",
       "       [123.0],\n",
       "       [124.0],\n",
       "       [118.0],\n",
       "       [130.0],\n",
       "       [127.7],\n",
       "       [131.0],\n",
       "       [134.1],\n",
       "       [138.0],\n",
       "       [139.4],\n",
       "       [140.65],\n",
       "       [138.0],\n",
       "       [139.5],\n",
       "       [148.0],\n",
       "       [149.05],\n",
       "       [152.9],\n",
       "       [152.45],\n",
       "       [155.95],\n",
       "       [152.0],\n",
       "       [150.95],\n",
       "       [153.0],\n",
       "       [149.0],\n",
       "       [151.45],\n",
       "       [151.9],\n",
       "       [152.3],\n",
       "       [153.95],\n",
       "       [141.95],\n",
       "       [142.5],\n",
       "       [140.95],\n",
       "       [136.95],\n",
       "       [147.9],\n",
       "       [148.1],\n",
       "       [140.9],\n",
       "       [143.45]], dtype=object)"
      ]
     },
     "execution_count": 12,
     "metadata": {},
     "output_type": "execute_result"
    }
   ],
   "source": [
    "training_data"
   ]
  },
  {
   "cell_type": "code",
   "execution_count": null,
   "metadata": {
    "id": "VDdizAXq-o3o"
   },
   "outputs": [],
   "source": [
    "testing_data = dataset[500:, 1:2]"
   ]
  },
  {
   "cell_type": "code",
   "execution_count": null,
   "metadata": {
    "colab": {
     "base_uri": "https://localhost:8080/"
    },
    "id": "rr31D9ke-o0x",
    "outputId": "d71fbe3f-2f71-4a26-c9e5-cc751d7ec8bc"
   },
   "outputs": [
    {
     "data": {
      "text/plain": [
       "array([[138.9],\n",
       "       [139.15],\n",
       "       [138.0],\n",
       "       ...,\n",
       "       [121.8],\n",
       "       [120.3],\n",
       "       [122.1]], dtype=object)"
      ]
     },
     "execution_count": 14,
     "metadata": {},
     "output_type": "execute_result"
    }
   ],
   "source": [
    "testing_data"
   ]
  },
  {
   "cell_type": "code",
   "execution_count": null,
   "metadata": {
    "id": "6ybeQjpq-ozL"
   },
   "outputs": [],
   "source": [
    "scaler = MinMaxScaler(feature_range=(0, 1))\n",
    "training_data_scaled = scaler.fit_transform(training_data)\n"
   ]
  },
  {
   "cell_type": "code",
   "execution_count": null,
   "metadata": {
    "id": "bt249d2_-ovp"
   },
   "outputs": [],
   "source": [
    "X_train = []\n",
    "y_train = []\n",
    "for i in range(60, len(training_data)):\n",
    "    X_train.append(training_data_scaled[i-60:i, 0])\n",
    "    y_train.append(training_data_scaled[i, 0])\n",
    "X_train, y_train = np.array(X_train), np.array(y_train)\n",
    "X_train = np.reshape(X_train, (X_train.shape[0], X_train.shape[1], 1))\n"
   ]
  },
  {
   "cell_type": "code",
   "execution_count": null,
   "metadata": {
    "id": "J2XsVyTx-ot6"
   },
   "outputs": [],
   "source": [
    "X_test = []\n",
    "for i in range(60, len(testing_data)):\n",
    "    X_test.append(testing_data[i-60:i, 0])\n",
    "X_test = np.array(X_test)\n",
    "X_test = np.reshape(X_test, (X_test.shape[0], X_test.shape[1], 1))\n"
   ]
  },
  {
   "cell_type": "code",
   "execution_count": null,
   "metadata": {
    "id": "KKDpsIut-onh"
   },
   "outputs": [],
   "source": [
    "model = Sequential()"
   ]
  },
  {
   "cell_type": "code",
   "execution_count": null,
   "metadata": {
    "id": "zZ0tKwoV-olD"
   },
   "outputs": [],
   "source": [
    "model.add(LSTM(units=50, return_sequences=True, input_shape=(X_train.shape[1], 1)))\n",
    "model.add(Dropout(0.2))\n",
    "model.add(LSTM(units=50, return_sequences=True))\n",
    "model.add(Dropout(0.2))\n",
    "model.add(LSTM(units=50))\n",
    "model.add(Dropout(0.2))\n",
    "model.add(Dense(units=1))"
   ]
  },
  {
   "cell_type": "code",
   "execution_count": null,
   "metadata": {
    "id": "GU9mSbzY-oiY"
   },
   "outputs": [],
   "source": [
    "model.compile(optimizer='adam', loss='mean_squared_error')"
   ]
  },
  {
   "cell_type": "code",
   "execution_count": null,
   "metadata": {
    "colab": {
     "base_uri": "https://localhost:8080/"
    },
    "id": "-FxzNSrt-oeh",
    "outputId": "28a39655-3412-4300-8eea-c0b63259628f"
   },
   "outputs": [
    {
     "name": "stdout",
     "output_type": "stream",
     "text": [
      "Epoch 1/100\n",
      "14/14 [==============================] - 10s 93ms/step - loss: 0.0580\n",
      "Epoch 2/100\n",
      "14/14 [==============================] - 2s 132ms/step - loss: 0.0163\n",
      "Epoch 3/100\n",
      "14/14 [==============================] - 2s 118ms/step - loss: 0.0103\n",
      "Epoch 4/100\n",
      "14/14 [==============================] - 2s 155ms/step - loss: 0.0071\n",
      "Epoch 5/100\n",
      "14/14 [==============================] - 1s 92ms/step - loss: 0.0062\n",
      "Epoch 6/100\n",
      "14/14 [==============================] - 1s 92ms/step - loss: 0.0068\n",
      "Epoch 7/100\n",
      "14/14 [==============================] - 1s 91ms/step - loss: 0.0062\n",
      "Epoch 8/100\n",
      "14/14 [==============================] - 1s 91ms/step - loss: 0.0062\n",
      "Epoch 9/100\n",
      "14/14 [==============================] - 1s 92ms/step - loss: 0.0061\n",
      "Epoch 10/100\n",
      "14/14 [==============================] - 1s 91ms/step - loss: 0.0049\n",
      "Epoch 11/100\n",
      "14/14 [==============================] - 1s 92ms/step - loss: 0.0063\n",
      "Epoch 12/100\n",
      "14/14 [==============================] - 2s 112ms/step - loss: 0.0059\n",
      "Epoch 13/100\n",
      "14/14 [==============================] - 2s 157ms/step - loss: 0.0055\n",
      "Epoch 14/100\n",
      "14/14 [==============================] - 1s 94ms/step - loss: 0.0050\n",
      "Epoch 15/100\n",
      "14/14 [==============================] - 1s 92ms/step - loss: 0.0057\n",
      "Epoch 16/100\n",
      "14/14 [==============================] - 1s 93ms/step - loss: 0.0057\n",
      "Epoch 17/100\n",
      "14/14 [==============================] - 1s 95ms/step - loss: 0.0056\n",
      "Epoch 18/100\n",
      "14/14 [==============================] - 1s 92ms/step - loss: 0.0057\n",
      "Epoch 19/100\n",
      "14/14 [==============================] - 1s 92ms/step - loss: 0.0050\n",
      "Epoch 20/100\n",
      "14/14 [==============================] - 1s 92ms/step - loss: 0.0051\n",
      "Epoch 21/100\n",
      "14/14 [==============================] - 2s 108ms/step - loss: 0.0045\n",
      "Epoch 22/100\n",
      "14/14 [==============================] - 2s 159ms/step - loss: 0.0047\n",
      "Epoch 23/100\n",
      "14/14 [==============================] - 2s 122ms/step - loss: 0.0046\n",
      "Epoch 24/100\n",
      "14/14 [==============================] - 1s 101ms/step - loss: 0.0046\n",
      "Epoch 25/100\n",
      "14/14 [==============================] - 1s 92ms/step - loss: 0.0045\n",
      "Epoch 26/100\n",
      "14/14 [==============================] - 1s 92ms/step - loss: 0.0044\n",
      "Epoch 27/100\n",
      "14/14 [==============================] - 1s 92ms/step - loss: 0.0041\n",
      "Epoch 28/100\n",
      "14/14 [==============================] - 1s 92ms/step - loss: 0.0045\n",
      "Epoch 29/100\n",
      "14/14 [==============================] - 1s 95ms/step - loss: 0.0044\n",
      "Epoch 30/100\n",
      "14/14 [==============================] - 2s 135ms/step - loss: 0.0042\n",
      "Epoch 31/100\n",
      "14/14 [==============================] - 2s 139ms/step - loss: 0.0035\n",
      "Epoch 32/100\n",
      "14/14 [==============================] - 1s 94ms/step - loss: 0.0039\n",
      "Epoch 33/100\n",
      "14/14 [==============================] - 1s 93ms/step - loss: 0.0043\n",
      "Epoch 34/100\n",
      "14/14 [==============================] - 1s 93ms/step - loss: 0.0039\n",
      "Epoch 35/100\n",
      "14/14 [==============================] - 1s 92ms/step - loss: 0.0041\n",
      "Epoch 36/100\n",
      "14/14 [==============================] - 1s 93ms/step - loss: 0.0047\n",
      "Epoch 37/100\n",
      "14/14 [==============================] - 1s 93ms/step - loss: 0.0043\n",
      "Epoch 38/100\n",
      "14/14 [==============================] - 1s 93ms/step - loss: 0.0040\n",
      "Epoch 39/100\n",
      "14/14 [==============================] - 2s 139ms/step - loss: 0.0048\n",
      "Epoch 40/100\n",
      "14/14 [==============================] - 2s 137ms/step - loss: 0.0045\n",
      "Epoch 41/100\n",
      "14/14 [==============================] - 1s 91ms/step - loss: 0.0037\n",
      "Epoch 42/100\n",
      "14/14 [==============================] - 1s 92ms/step - loss: 0.0048\n",
      "Epoch 43/100\n",
      "14/14 [==============================] - 1s 93ms/step - loss: 0.0035\n",
      "Epoch 44/100\n",
      "14/14 [==============================] - 1s 93ms/step - loss: 0.0031\n",
      "Epoch 45/100\n",
      "14/14 [==============================] - 1s 92ms/step - loss: 0.0038\n",
      "Epoch 46/100\n",
      "14/14 [==============================] - 2s 132ms/step - loss: 0.0037\n",
      "Epoch 47/100\n",
      "14/14 [==============================] - 3s 198ms/step - loss: 0.0049\n",
      "Epoch 48/100\n",
      "14/14 [==============================] - 2s 133ms/step - loss: 0.0046\n",
      "Epoch 49/100\n",
      "14/14 [==============================] - 1s 94ms/step - loss: 0.0036\n",
      "Epoch 50/100\n",
      "14/14 [==============================] - 1s 92ms/step - loss: 0.0038\n",
      "Epoch 51/100\n",
      "14/14 [==============================] - 1s 94ms/step - loss: 0.0047\n",
      "Epoch 52/100\n",
      "14/14 [==============================] - 1s 93ms/step - loss: 0.0034\n",
      "Epoch 53/100\n",
      "14/14 [==============================] - 1s 93ms/step - loss: 0.0036\n",
      "Epoch 54/100\n",
      "14/14 [==============================] - 1s 95ms/step - loss: 0.0035\n",
      "Epoch 55/100\n",
      "14/14 [==============================] - 1s 92ms/step - loss: 0.0039\n",
      "Epoch 56/100\n",
      "14/14 [==============================] - 2s 147ms/step - loss: 0.0032\n",
      "Epoch 57/100\n",
      "14/14 [==============================] - 2s 127ms/step - loss: 0.0040\n",
      "Epoch 58/100\n",
      "14/14 [==============================] - 1s 92ms/step - loss: 0.0040\n",
      "Epoch 59/100\n",
      "14/14 [==============================] - 1s 94ms/step - loss: 0.0032\n",
      "Epoch 60/100\n",
      "14/14 [==============================] - 1s 92ms/step - loss: 0.0039\n",
      "Epoch 61/100\n",
      "14/14 [==============================] - 1s 93ms/step - loss: 0.0033\n",
      "Epoch 62/100\n",
      "14/14 [==============================] - 1s 94ms/step - loss: 0.0033\n",
      "Epoch 63/100\n",
      "14/14 [==============================] - 1s 92ms/step - loss: 0.0034\n",
      "Epoch 64/100\n",
      "14/14 [==============================] - 1s 91ms/step - loss: 0.0034\n",
      "Epoch 65/100\n",
      "14/14 [==============================] - 2s 143ms/step - loss: 0.0037\n",
      "Epoch 66/100\n",
      "14/14 [==============================] - 2s 159ms/step - loss: 0.0032\n",
      "Epoch 67/100\n",
      "14/14 [==============================] - 1s 100ms/step - loss: 0.0034\n",
      "Epoch 68/100\n",
      "14/14 [==============================] - 1s 94ms/step - loss: 0.0037\n",
      "Epoch 69/100\n",
      "14/14 [==============================] - 1s 92ms/step - loss: 0.0033\n",
      "Epoch 70/100\n",
      "14/14 [==============================] - 1s 94ms/step - loss: 0.0033\n",
      "Epoch 71/100\n",
      "14/14 [==============================] - 1s 92ms/step - loss: 0.0030\n",
      "Epoch 72/100\n",
      "14/14 [==============================] - 1s 93ms/step - loss: 0.0033\n",
      "Epoch 73/100\n",
      "14/14 [==============================] - 1s 95ms/step - loss: 0.0026\n",
      "Epoch 74/100\n",
      "14/14 [==============================] - 2s 143ms/step - loss: 0.0034\n",
      "Epoch 75/100\n",
      "14/14 [==============================] - 2s 134ms/step - loss: 0.0037\n",
      "Epoch 76/100\n",
      "14/14 [==============================] - 1s 93ms/step - loss: 0.0037\n",
      "Epoch 77/100\n",
      "14/14 [==============================] - 1s 94ms/step - loss: 0.0041\n",
      "Epoch 78/100\n",
      "14/14 [==============================] - 1s 93ms/step - loss: 0.0041\n",
      "Epoch 79/100\n",
      "14/14 [==============================] - 1s 92ms/step - loss: 0.0035\n",
      "Epoch 80/100\n",
      "14/14 [==============================] - 1s 93ms/step - loss: 0.0030\n",
      "Epoch 81/100\n",
      "14/14 [==============================] - 1s 91ms/step - loss: 0.0032\n",
      "Epoch 82/100\n",
      "14/14 [==============================] - 1s 93ms/step - loss: 0.0030\n",
      "Epoch 83/100\n",
      "14/14 [==============================] - 2s 143ms/step - loss: 0.0032\n",
      "Epoch 84/100\n",
      "14/14 [==============================] - 2s 132ms/step - loss: 0.0033\n",
      "Epoch 85/100\n",
      "14/14 [==============================] - 1s 93ms/step - loss: 0.0033\n",
      "Epoch 86/100\n",
      "14/14 [==============================] - 1s 93ms/step - loss: 0.0036\n",
      "Epoch 87/100\n",
      "14/14 [==============================] - 1s 94ms/step - loss: 0.0032\n",
      "Epoch 88/100\n",
      "14/14 [==============================] - 2s 131ms/step - loss: 0.0028\n",
      "Epoch 89/100\n",
      "14/14 [==============================] - 1s 93ms/step - loss: 0.0033\n",
      "Epoch 90/100\n",
      "14/14 [==============================] - 1s 93ms/step - loss: 0.0032\n",
      "Epoch 91/100\n",
      "14/14 [==============================] - 1s 102ms/step - loss: 0.0027\n",
      "Epoch 92/100\n",
      "14/14 [==============================] - 2s 161ms/step - loss: 0.0033\n",
      "Epoch 93/100\n",
      "14/14 [==============================] - 1s 100ms/step - loss: 0.0031\n",
      "Epoch 94/100\n",
      "14/14 [==============================] - 1s 95ms/step - loss: 0.0026\n",
      "Epoch 95/100\n",
      "14/14 [==============================] - 1s 94ms/step - loss: 0.0031\n",
      "Epoch 96/100\n",
      "14/14 [==============================] - 1s 94ms/step - loss: 0.0027\n",
      "Epoch 97/100\n",
      "14/14 [==============================] - 1s 95ms/step - loss: 0.0031\n",
      "Epoch 98/100\n",
      "14/14 [==============================] - 1s 93ms/step - loss: 0.0027\n",
      "Epoch 99/100\n",
      "14/14 [==============================] - 1s 92ms/step - loss: 0.0026\n",
      "Epoch 100/100\n",
      "14/14 [==============================] - 2s 111ms/step - loss: 0.0026\n"
     ]
    },
    {
     "data": {
      "text/plain": [
       "<keras.callbacks.History at 0x7f46c40b34f0>"
      ]
     },
     "execution_count": 21,
     "metadata": {},
     "output_type": "execute_result"
    }
   ],
   "source": [
    "model.fit(X_train, y_train, epochs=100, batch_size=32)\n"
   ]
  },
  {
   "cell_type": "code",
   "execution_count": null,
   "metadata": {
    "colab": {
     "base_uri": "https://localhost:8080/"
    },
    "id": "VIFJRmCa-ocx",
    "outputId": "803988ee-cac6-4fd1-b3a7-44a202a84e2d"
   },
   "outputs": [
    {
     "name": "stdout",
     "output_type": "stream",
     "text": [
      "14/14 [==============================] - 3s 39ms/step\n"
     ]
    }
   ],
   "source": [
    "predicted_stock_price = model.predict(X_train)\n",
    "predicted_stock_price = scaler.inverse_transform(predicted_stock_price)\n"
   ]
  },
  {
   "cell_type": "code",
   "execution_count": null,
   "metadata": {
    "colab": {
     "base_uri": "https://localhost:8080/",
     "height": 472
    },
    "id": "zVPFD9nw-oYu",
    "outputId": "20b9e22a-a510-4e2a-d9dc-be5e09c94a74"
   },
   "outputs": [
    {
     "data": {
      "image/png": "[encoded data removed]",
      "text/plain": [
       "<Figure size 640x480 with 1 Axes>"
      ]
     },
     "metadata": {},
     "output_type": "display_data"
    }
   ],
   "source": [
    "import matplotlib.pyplot as plt\n",
    "plt.plot(testing_data, color='blue', label='Actual Stock Price')\n",
    "plt.plot(predicted_stock_price, color='red', label='Predicted Stock Price')\n",
    "plt.title('Stock Price Prediction')\n",
    "plt.xlabel('Time')\n",
    "plt.ylabel('Stock Price')\n",
    "plt.legend()\n",
    "plt.show()"
   ]
  },
  {
   "cell_type": "code",
   "execution_count": null,
   "metadata": {
    "id": "6zN8xCot-oW_"
   },
   "outputs": [],
   "source": []
  },
  {
   "cell_type": "code",
   "execution_count": null,
   "metadata": {
    "id": "eOMma4Py-oTR"
   },
   "outputs": [],
   "source": []
  },
  {
   "cell_type": "code",
   "execution_count": null,
   "metadata": {
    "id": "3cbf8aVV-oRe"
   },
   "outputs": [],
   "source": []
  },
  {
   "cell_type": "code",
   "execution_count": null,
   "metadata": {
    "id": "730ciDn4-oNw"
   },
   "outputs": [],
   "source": []
  },
  {
   "cell_type": "code",
   "execution_count": null,
   "metadata": {
    "id": "RblXwUrI-oLu"
   },
   "outputs": [],
   "source": []
  },
  {
   "cell_type": "code",
   "execution_count": null,
   "metadata": {
    "id": "VeaAXAp--oI6"
   },
   "outputs": [],
   "source": []
  },
  {
   "cell_type": "code",
   "execution_count": null,
   "metadata": {
    "id": "BxQi2n1g-oGk"
   },
   "outputs": [],
   "source": []
  },
  {
   "cell_type": "code",
   "execution_count": null,
   "metadata": {
    "id": "hjwcaXT--oC0"
   },
   "outputs": [],
   "source": []
  },
  {
   "cell_type": "code",
   "execution_count": null,
   "metadata": {
    "id": "XDTKWDpv-oBL"
   },
   "outputs": [],
   "source": []
  },
  {
   "cell_type": "code",
   "execution_count": null,
   "metadata": {
    "id": "E2a00oGF-n6b"
   },
   "outputs": [],
   "source": []
  }
 ],
 "metadata": {
  "colab": {
   "provenance": []
  },
  "kernelspec": {
   "display_name": "Python 3 (ipykernel)",
   "language": "python",
   "name": "python3"
  },
  "language_info": {
   "codemirror_mode": {
    "name": "ipython",
    "version": 3
   },
   "file_extension": ".py",
   "mimetype": "text/x-python",
   "name": "python",
   "nbconvert_exporter": "python",
   "pygments_lexer": "ipython3",
   "version": "3.10.9"
  }
 },
 "nbformat": 4,
 "nbformat_minor": 1
}
